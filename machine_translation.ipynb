{
 "cells": [
  {
   "cell_type": "markdown",
   "metadata": {},
   "source": [
    "## Assignment: Machine Translation: A Comparative Experiment"
   ]
  },
  {
   "cell_type": "code",
   "execution_count": 1,
   "metadata": {},
   "outputs": [
    {
     "name": "stdout",
     "output_type": "stream",
     "text": [
      "WARNING:tensorflow:From C:\\Users\\moham\\AppData\\Roaming\\Python\\Python311\\site-packages\\keras\\src\\losses.py:2976: The name tf.losses.sparse_softmax_cross_entropy is deprecated. Please use tf.compat.v1.losses.sparse_softmax_cross_entropy instead.\n",
      "\n"
     ]
    },
    {
     "name": "stderr",
     "output_type": "stream",
     "text": [
      "[nltk_data] Downloading package punkt to\n",
      "[nltk_data]     C:\\Users\\moham\\AppData\\Roaming\\nltk_data...\n",
      "[nltk_data]   Package punkt is already up-to-date!\n"
     ]
    },
    {
     "data": {
      "text/plain": [
       "True"
      ]
     },
     "execution_count": 1,
     "metadata": {},
     "output_type": "execute_result"
    }
   ],
   "source": [
    "## necessary imports\n",
    "import pandas as pd\n",
    "import numpy as np \n",
    "from deep_translator import GoogleTranslator\n",
    "from nltk.tokenize import word_tokenize\n",
    "from sklearn.model_selection import train_test_split\n",
    "import sacrebleu\n",
    "import matplotlib.pyplot as plt\n",
    "import nltk\n",
    "from collections import Counter \n",
    "from tensorflow.keras.preprocessing.sequence import pad_sequences\n",
    "import tensorflow as tf\n",
    "from tensorflow.keras.models import Model\n",
    "from tensorflow.keras.layers import Input, Embedding, LSTM, Dense, TimeDistributed\n",
    "nltk.download('punkt')"
   ]
  },
  {
   "cell_type": "markdown",
   "metadata": {},
   "source": [
    "#### Defining the sentences to be translated with their respective libre translation (No free api was found sadly, so translated them manually on Libre website)"
   ]
  },
  {
   "cell_type": "code",
   "execution_count": 4,
   "metadata": {},
   "outputs": [],
   "source": [
    "arabic_sentences = [\n",
    "    \"لقد كان يوما طويلا ولكنه كان ممتعا للغاية.\",\n",
    "    \"عندما وصلت إلى المنزل، وجدت رسالة من صديقي.\",\n",
    "    \"الحياة مليئة بالتحديات ولكننا نواصل المضي قدما.\"\n",
    "]\n",
    "\n",
    "english_reference = [\n",
    "    \"It was a long day, but it was incredibly enjoyable.\",\n",
    "    \"When I got home, I found a letter from my friend.\",\n",
    "    \"Life is full of challenges, but we keep moving forward.\"\n",
    "]\n",
    "\n",
    "Libre_translation = [\"It's been a long day, but it was so fun. - What?\", \n",
    "                     \"When I got home, I found a message from my friend. - What?\",\n",
    "                     \"Life is full of challenges, but we keep moving.\"]"
   ]
  },
  {
   "cell_type": "markdown",
   "metadata": {},
   "source": [
    "#### Comparison functionality"
   ]
  },
  {
   "cell_type": "code",
   "execution_count": 5,
   "metadata": {},
   "outputs": [
    {
     "name": "stdout",
     "output_type": "stream",
     "text": [
      "LibreTranslate BLEU Score: 61.405870890269355\n",
      "Google Translator BLEU Score: 71.45429028534373\n"
     ]
    },
    {
     "data": {
      "image/png": "[encoded data removed]",
      "text/plain": [
       "<Figure size 640x480 with 1 Axes>"
      ]
     },
     "metadata": {},
     "output_type": "display_data"
    }
   ],
   "source": [
    "\n",
    "translator = GoogleTranslator(source='arabic', target='english')\n",
    "google_translations = [translator.translate(sentence) for sentence in arabic_sentences]\n",
    "\n",
    "reference = [english_reference]\n",
    "\n",
    "libre_bleu = sacrebleu.corpus_bleu(Libre_translation, reference)\n",
    "google_bleu = sacrebleu.corpus_bleu(google_translations, reference)\n",
    "\n",
    "print(f\"LibreTranslate BLEU Score: {libre_bleu.score}\")\n",
    "print(f\"Google Translator BLEU Score: {google_bleu.score}\")\n",
    "\n",
    "tools = ['LibreTranslate', 'Google Translator (NMT)']\n",
    "bleu_scores = [libre_bleu.score, google_bleu.score]\n",
    "\n",
    "plt.bar(tools, bleu_scores, color=['blue', 'green'])\n",
    "plt.xlabel('Translation Tools')\n",
    "plt.ylabel('BLEU Score')\n",
    "plt.title('Comparison of BLEU Scores between LibreTranslate and Google Translator (NMT)')\n",
    "plt.show()\n"
   ]
  },
  {
   "cell_type": "markdown",
   "metadata": {},
   "source": [
    "#### From scratch model - Kaggle dataset: https://www.kaggle.com/datasets/samirmoustafa/arabic-to-english-translation-sentences"
   ]
  },
  {
   "cell_type": "code",
   "execution_count": 6,
   "metadata": {},
   "outputs": [
    {
     "name": "stdout",
     "output_type": "stream",
     "text": [
      "English Sentences:\n",
      "['Hi.', 'Run!', 'Help!', 'Jump!', 'Stop!', 'Go on.', 'Go on.', 'Hello!', 'Hurry!', 'Hurry!']\n",
      "Arabic Sentences:\n",
      "['مرحبًا.', 'اركض!', 'النجدة!', 'اقفز!', 'قف!', 'داوم.', 'استمر.', 'مرحباً.', 'تعجّل!', 'استعجل!']\n",
      "Tokenized English Sentences:\n",
      "[['Hi', '.'], ['Run', '!'], ['Help', '!'], ['Jump', '!'], ['Stop', '!'], ['Go', 'on', '.'], ['Go', 'on', '.'], ['Hello', '!'], ['Hurry', '!'], ['Hurry', '!']]\n",
      "Tokenized Arabic Sentences:\n",
      "[['مرحبًا', '.'], ['اركض', '!'], ['النجدة', '!'], ['اقفز', '!'], ['قف', '!'], ['داوم', '.'], ['استمر', '.'], ['مرحباً', '.'], ['تعجّل', '!'], ['استعجل', '!']]\n"
     ]
    }
   ],
   "source": [
    "with open('ara_eng.txt', 'r', encoding='utf-8') as f:\n",
    "    lines = f.readlines()\n",
    "english_sentences = []\n",
    "arabic_sentences = []\n",
    "\n",
    "for line in lines:\n",
    "    if '\\t' in line:  \n",
    "        english, arabic = line.strip().split('\\t')\n",
    "        english_sentences.append(english)\n",
    "        arabic_sentences.append(arabic)\n",
    "\n",
    "print(\"English Sentences:\")\n",
    "print(english_sentences[:10])  \n",
    "print(\"Arabic Sentences:\")\n",
    "print(arabic_sentences[:10])    \n",
    "\n",
    "\n",
    "def preprocess_sentences(english_sentences, arabic_sentences):\n",
    "    english_tokenized = [word_tokenize(sentence) for sentence in english_sentences]\n",
    "    arabic_tokenized = [word_tokenize(sentence) for sentence in arabic_sentences]\n",
    "    \n",
    "    return english_tokenized, arabic_tokenized\n",
    "\n",
    "english_tokenized, arabic_tokenized = preprocess_sentences(english_sentences, arabic_sentences)\n",
    "\n",
    "print(\"Tokenized English Sentences:\")\n",
    "print(english_tokenized[:10]) \n",
    "print(\"Tokenized Arabic Sentences:\")\n",
    "print(arabic_tokenized[:10])    \n"
   ]
  },
  {
   "cell_type": "code",
   "execution_count": 7,
   "metadata": {},
   "outputs": [
    {
     "name": "stdout",
     "output_type": "stream",
     "text": [
      "English Vocabulary Size: 26659\n",
      "Arabic Vocabulary Size: 57873\n"
     ]
    }
   ],
   "source": [
    "from collections import Counter\n",
    "\n",
    "def create_vocabulary(sentences):\n",
    "    word_counts = Counter(word for sentence in sentences for word in sentence)\n",
    "    vocab = {word: idx for idx, (word, _) in enumerate(word_counts.items())}\n",
    "    vocab['<PAD>'] = len(vocab)\n",
    "    vocab['<UNK>'] = len(vocab)\n",
    "    return vocab\n",
    "\n",
    "english_vocab = create_vocabulary(english_tokenized)\n",
    "arabic_vocab = create_vocabulary(arabic_tokenized)\n",
    "\n",
    "print(f\"English Vocabulary Size: {len(english_vocab)}\")\n",
    "print(f\"Arabic Vocabulary Size: {len(arabic_vocab)}\")\n"
   ]
  },
  {
   "cell_type": "code",
   "execution_count": 8,
   "metadata": {},
   "outputs": [
    {
     "name": "stdout",
     "output_type": "stream",
     "text": [
      "Encoded English Sentences: [[0, 1], [2, 3], [4, 3], [5, 3], [6, 3]]\n",
      "Encoded Arabic Sentences: [[0, 1], [2, 3], [4, 3], [5, 3], [6, 3]]\n"
     ]
    }
   ],
   "source": [
    "def encode_sentences(sentences, vocab):\n",
    "    return [[vocab.get(word, vocab['<UNK>']) for word in sentence] for sentence in sentences]\n",
    "\n",
    "encoded_english = encode_sentences(english_tokenized, english_vocab)\n",
    "encoded_arabic = encode_sentences(arabic_tokenized, arabic_vocab)\n",
    "\n",
    "print(\"Encoded English Sentences:\", encoded_english[:5]) \n",
    "print(\"Encoded Arabic Sentences:\", encoded_arabic[:5])   \n"
   ]
  },
  {
   "cell_type": "code",
   "execution_count": 11,
   "metadata": {},
   "outputs": [
    {
     "name": "stdout",
     "output_type": "stream",
     "text": [
      "Padded Encoded English Shape: (24638, 226)\n",
      "Padded Encoded Arabic Shape: (24638, 226)\n"
     ]
    }
   ],
   "source": [
    "max_length = max(max(len(seq) for seq in encoded_english), max(len(seq) for seq in encoded_arabic))\n",
    "\n",
    "padded_encoded_english = pad_sequences(encoded_english, maxlen=max_length, padding='post')\n",
    "padded_encoded_arabic = pad_sequences(encoded_arabic, maxlen=max_length, padding='post')\n",
    "\n",
    "print(\"Padded Encoded English Shape:\", padded_encoded_english.shape)\n",
    "print(\"Padded Encoded Arabic Shape:\", padded_encoded_arabic.shape)\n"
   ]
  },
  {
   "cell_type": "code",
   "execution_count": 12,
   "metadata": {},
   "outputs": [
    {
     "name": "stdout",
     "output_type": "stream",
     "text": [
      "WARNING:tensorflow:From C:\\Users\\moham\\AppData\\Roaming\\Python\\Python311\\site-packages\\keras\\src\\backend.py:1398: The name tf.executing_eagerly_outside_functions is deprecated. Please use tf.compat.v1.executing_eagerly_outside_functions instead.\n",
      "\n",
      "WARNING:tensorflow:From C:\\Users\\moham\\AppData\\Roaming\\Python\\Python311\\site-packages\\keras\\src\\optimizers\\__init__.py:309: The name tf.train.Optimizer is deprecated. Please use tf.compat.v1.train.Optimizer instead.\n",
      "\n",
      "Model: \"model\"\n",
      "__________________________________________________________________________________________________\n",
      " Layer (type)                Output Shape                 Param #   Connected to                  \n",
      "==================================================================================================\n",
      " input_1 (InputLayer)        [(None, None)]               0         []                            \n",
      "                                                                                                  \n",
      " input_2 (InputLayer)        [(None, None)]               0         []                            \n",
      "                                                                                                  \n",
      " embedding (Embedding)       (None, None, 256)            6824704   ['input_1[0][0]']             \n",
      "                                                                                                  \n",
      " embedding_1 (Embedding)     (None, None, 256)            1481548   ['input_2[0][0]']             \n",
      "                                                          8                                       \n",
      "                                                                                                  \n",
      " lstm (LSTM)                 [(None, 512),                1574912   ['embedding[0][0]']           \n",
      "                              (None, 512),                                                        \n",
      "                              (None, 512)]                                                        \n",
      "                                                                                                  \n",
      " lstm_1 (LSTM)               [(None, None, 512),          1574912   ['embedding_1[0][0]',         \n",
      "                              (None, 512),                           'lstm[0][1]',                \n",
      "                              (None, 512)]                           'lstm[0][2]']                \n",
      "                                                                                                  \n",
      " dense (Dense)               (None, None, 57873)          2968884   ['lstm_1[0][0]']              \n",
      "                                                          9                                       \n",
      "                                                                                                  \n",
      "==================================================================================================\n",
      "Total params: 54478865 (207.82 MB)\n",
      "Trainable params: 54478865 (207.82 MB)\n",
      "Non-trainable params: 0 (0.00 Byte)\n",
      "__________________________________________________________________________________________________\n"
     ]
    }
   ],
   "source": [
    "embedding_dim = 256\n",
    "units = 512\n",
    "\n",
    "encoder_input = Input(shape=(None,))\n",
    "encoder_embedding = Embedding(input_dim=len(english_vocab), output_dim=embedding_dim)(encoder_input)\n",
    "encoder_lstm = LSTM(units, return_state=True)\n",
    "encoder_outputs, state_h, state_c = encoder_lstm(encoder_embedding)\n",
    "encoder_states = [state_h, state_c]\n",
    "\n",
    "decoder_input = Input(shape=(None,))\n",
    "decoder_embedding = Embedding(input_dim=len(arabic_vocab), output_dim=embedding_dim)(decoder_input)\n",
    "decoder_lstm = LSTM(units, return_sequences=True, return_state=True)\n",
    "decoder_outputs, _, _ = decoder_lstm(decoder_embedding, initial_state=encoder_states)\n",
    "decoder_dense = Dense(len(arabic_vocab), activation='softmax')\n",
    "decoder_outputs = decoder_dense(decoder_outputs)\n",
    "\n",
    "model = Model([encoder_input, decoder_input], decoder_outputs)\n",
    "model.compile(optimizer='adam', loss='sparse_categorical_crossentropy', metrics=['accuracy'])\n",
    "\n",
    "model.summary()"
   ]
  },
  {
   "cell_type": "code",
   "execution_count": null,
   "metadata": {},
   "outputs": [
    {
     "name": "stdout",
     "output_type": "stream",
     "text": [
      "Epoch 1/100\n",
      "WARNING:tensorflow:From C:\\Users\\moham\\AppData\\Roaming\\Python\\Python311\\site-packages\\keras\\src\\utils\\tf_utils.py:492: The name tf.ragged.RaggedTensorValue is deprecated. Please use tf.compat.v1.ragged.RaggedTensorValue instead.\n",
      "\n",
      "WARNING:tensorflow:From C:\\Users\\moham\\AppData\\Roaming\\Python\\Python311\\site-packages\\keras\\src\\engine\\base_layer_utils.py:384: The name tf.executing_eagerly_outside_functions is deprecated. Please use tf.compat.v1.executing_eagerly_outside_functions instead.\n",
      "\n"
     ]
    }
   ],
   "source": [
    "decoder_input_data = np.zeros_like(padded_encoded_arabic)\n",
    "decoder_input_data[:, 1:] = padded_encoded_arabic[:, :-1]\n",
    "decoder_output_data = np.expand_dims(padded_encoded_arabic, -1)  \n",
    "\n",
    "model.fit([padded_encoded_english, decoder_input_data], decoder_output_data, \n",
    "          batch_size=64, \n",
    "          epochs=100, \n",
    "          validation_split=0.2)"
   ]
  },
  {
   "cell_type": "code",
   "execution_count": null,
   "metadata": {},
   "outputs": [],
   "source": []
  }
 ],
 "metadata": {
  "kernelspec": {
   "display_name": "base",
   "language": "python",
   "name": "python3"
  },
  "language_info": {
   "codemirror_mode": {
    "name": "ipython",
    "version": 3
   },
   "file_extension": ".py",
   "mimetype": "text/x-python",
   "name": "python",
   "nbconvert_exporter": "python",
   "pygments_lexer": "ipython3",
   "version": "3.11.5"
  }
 },
 "nbformat": 4,
 "nbformat_minor": 2
}
