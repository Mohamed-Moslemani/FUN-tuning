{
 "cells": [
  {
   "cell_type": "code",
   "execution_count": 8,
   "metadata": {},
   "outputs": [],
   "source": [
    "import matplotlib.pyplot as plt \n",
    "import pandas as pd\n",
    "import numpy as np\n",
    "from transformers import AutoModelForQuestionAnswering, AutoTokenizer\n",
    "import re\n",
    "from nltk.tokenize import word_tokenize\n",
    "import torch\n",
    "from transformers import AutoTokenizer, AutoModelForQuestionAnswering, Trainer, TrainingArguments, pipeline\n",
    "from datasets import Dataset\n",
    "import json\n",
    "import gradio as gr\n"
   ]
  },
  {
   "cell_type": "code",
   "execution_count": 4,
   "metadata": {},
   "outputs": [],
   "source": [
    "with open('merged_data.json', 'r', encoding='utf-8') as json_file:\n",
    "    merged_data = json.load(json_file)\n"
   ]
  },
  {
   "cell_type": "code",
   "execution_count": 6,
   "metadata": {},
   "outputs": [
    {
     "data": {
      "application/vnd.jupyter.widget-view+json": {
       "model_id": "77c853c9eda949919bb70e187f3537a8",
       "version_major": 2,
       "version_minor": 0
      },
      "text/plain": [
       "Map:   0%|          | 0/34 [00:00<?, ? examples/s]"
      ]
     },
     "metadata": {},
     "output_type": "display_data"
    },
    {
     "data": {
      "application/vnd.jupyter.widget-view+json": {
       "model_id": "a2b7cb08eae24a42babdef1bb2eb2113",
       "version_major": 2,
       "version_minor": 0
      },
      "text/plain": [
       "Map:   0%|          | 0/34 [00:00<?, ? examples/s]"
      ]
     },
     "metadata": {},
     "output_type": "display_data"
    },
    {
     "name": "stderr",
     "output_type": "stream",
     "text": [
      "Some weights of BertForQuestionAnswering were not initialized from the model checkpoint at aubmindlab/bert-base-arabertv02 and are newly initialized: ['qa_outputs.bias', 'qa_outputs.weight']\n",
      "You should probably TRAIN this model on a down-stream task to be able to use it for predictions and inference.\n"
     ]
    },
    {
     "data": {
      "application/vnd.jupyter.widget-view+json": {
       "model_id": "af0c205015444616aec0d247115c604f",
       "version_major": 2,
       "version_minor": 0
      },
      "text/plain": [
       "  0%|          | 0/9 [00:00<?, ?it/s]"
      ]
     },
     "metadata": {},
     "output_type": "display_data"
    },
    {
     "name": "stdout",
     "output_type": "stream",
     "text": [
      "{'train_runtime': 655.2505, 'train_samples_per_second': 0.156, 'train_steps_per_second': 0.014, 'train_loss': 4.748199886745876, 'epoch': 3.0}\n"
     ]
    },
    {
     "data": {
      "text/plain": [
       "TrainOutput(global_step=9, training_loss=4.748199886745876, metrics={'train_runtime': 655.2505, 'train_samples_per_second': 0.156, 'train_steps_per_second': 0.014, 'train_loss': 4.748199886745876, 'epoch': 3.0})"
      ]
     },
     "execution_count": 6,
     "metadata": {},
     "output_type": "execute_result"
    }
   ],
   "source": [
    "\n",
    "def prepare_dataset(data):\n",
    "    dataset = []\n",
    "    for entry in data['data']:\n",
    "        if 'paragraphs' in entry:\n",
    "            for paragraph in entry['paragraphs']:\n",
    "                context = paragraph['context']\n",
    "                for qa in paragraph.get('qas', []):\n",
    "                    dataset.append({\n",
    "                        'question': qa['question'],\n",
    "                        'context': context,\n",
    "                        'answers': {\n",
    "                            'text': [qa['answers'][0]['text']],\n",
    "                            'answer_start': [qa['answers'][0]['answer_start']]\n",
    "                        }\n",
    "                    })\n",
    "    return dataset\n",
    "\n",
    "train_data = prepare_dataset(merged_data)\n",
    "\n",
    "train_dataset = Dataset.from_list(train_data)\n",
    "\n",
    "model_name = \"aubmindlab/bert-base-arabertv02\"  \n",
    "tokenizer = AutoTokenizer.from_pretrained(model_name)\n",
    "\n",
    "df = pd.DataFrame(train_data)\n",
    "\n",
    "df_cleaned = df.dropna()\n",
    "\n",
    "def convert_to_training_format(df):\n",
    "    dataset = []\n",
    "    for index, row in df.iterrows():\n",
    "        dataset.append({\n",
    "            'question': row['question'],\n",
    "            'context': row['context'],\n",
    "            'answers': {\n",
    "                'text': [row['answers']['text'][0]],\n",
    "                'answer_start': [row['answers']['answer_start'][0]]\n",
    "            }\n",
    "        })\n",
    "    return dataset\n",
    "\n",
    "train_data_cleaned = convert_to_training_format(df_cleaned)\n",
    "\n",
    "train_dataset_cleaned = Dataset.from_list(train_data_cleaned)\n",
    "\n",
    "def tokenize_function(examples):\n",
    "    return tokenizer(\n",
    "        examples[\"question\"],\n",
    "        examples[\"context\"],\n",
    "        truncation=True,\n",
    "        padding=\"max_length\",\n",
    "        max_length=512,\n",
    "        return_offsets_mapping=True\n",
    "    )\n",
    "\n",
    "tokenized_dataset = train_dataset_cleaned.map(tokenize_function, batched=True)\n",
    "\n",
    "def format_dataset(examples):\n",
    "    start_positions = examples['answers']['answer_start'][0]\n",
    "    end_positions = start_positions + len(examples['answers']['text'][0])\n",
    "    \n",
    "    return {\n",
    "        'input_ids': examples['input_ids'],\n",
    "        'attention_mask': examples['attention_mask'],\n",
    "        'start_positions': start_positions,\n",
    "        'end_positions': end_positions\n",
    "    }\n",
    "\n",
    "formatted_dataset = tokenized_dataset.map(format_dataset)\n",
    "\n",
    "model = AutoModelForQuestionAnswering.from_pretrained(model_name)\n",
    "\n",
    "training_args = TrainingArguments(\n",
    "    output_dir='./results',          # output directory\n",
    "    evaluation_strategy=\"no\",        # Disable evaluation\n",
    "    learning_rate=2e-5,              # learning rate\n",
    "    per_device_train_batch_size=16,  # batch size for training\n",
    "    num_train_epochs=3,              # total number of training epochs\n",
    "    weight_decay=0.01,               # strength of weight decay\n",
    ")\n",
    "\n",
    "trainer = Trainer(\n",
    "    model=model,\n",
    "    args=training_args,\n",
    "    train_dataset=formatted_dataset,\n",
    ")\n",
    "\n",
    "trainer.train()"
   ]
  },
  {
   "cell_type": "code",
   "execution_count": 7,
   "metadata": {},
   "outputs": [
    {
     "data": {
      "text/plain": [
       "('./fine_tuned_model\\\\tokenizer_config.json',\n",
       " './fine_tuned_model\\\\special_tokens_map.json',\n",
       " './fine_tuned_model\\\\vocab.txt',\n",
       " './fine_tuned_model\\\\added_tokens.json',\n",
       " './fine_tuned_model\\\\tokenizer.json')"
      ]
     },
     "execution_count": 7,
     "metadata": {},
     "output_type": "execute_result"
    }
   ],
   "source": [
    "trainer.save_model(\"./fine_tuned_model\")\n",
    "tokenizer.save_pretrained(\"./fine_tuned_model\")\n"
   ]
  },
  {
   "cell_type": "code",
   "execution_count": 11,
   "metadata": {},
   "outputs": [
    {
     "name": "stdout",
     "output_type": "stream",
     "text": [
      "Answer: [CLS] ما هي أعراض السرطام [SEP] أعراض مرض السرطان تشمل العطش\n"
     ]
    }
   ],
   "source": [
    "model = AutoModelForQuestionAnswering.from_pretrained(\"./fine_tuned_model\")\n",
    "tokenizer = AutoTokenizer.from_pretrained(\"./fine_tuned_model\")\n",
    "\n",
    "def get_answer(question, context):\n",
    "    inputs = tokenizer.encode_plus(question, context, return_tensors=\"pt\")\n",
    "    with torch.no_grad():\n",
    "        outputs = model(**inputs)\n",
    "    \n",
    "    answer_start_scores = outputs.start_logits\n",
    "    answer_end_scores = outputs.end_logits\n",
    "\n",
    "    answer_start = torch.argmax(answer_start_scores)  \n",
    "    answer_end = torch.argmax(answer_end_scores) + 1  \n",
    "\n",
    "    answer = tokenizer.convert_tokens_to_string(tokenizer.convert_ids_to_tokens(inputs[\"input_ids\"][0][answer_start:answer_end]))\n",
    "    return answer.strip()\n",
    "\n",
    "question = \"ما هي أعراض السرطان\"\n",
    "context = \"أعراض مرض السرطان تشمل العطش الشديد، التبول المتكرر، والشعور بالتعب.\"\n",
    "print(\"Answer:\", get_answer(question, context))"
   ]
  }
 ],
 "metadata": {
  "kernelspec": {
   "display_name": "base",
   "language": "python",
   "name": "python3"
  },
  "language_info": {
   "codemirror_mode": {
    "name": "ipython",
    "version": 3
   },
   "file_extension": ".py",
   "mimetype": "text/x-python",
   "name": "python",
   "nbconvert_exporter": "python",
   "pygments_lexer": "ipython3",
   "version": "3.11.5"
  }
 },
 "nbformat": 4,
 "nbformat_minor": 2
}
