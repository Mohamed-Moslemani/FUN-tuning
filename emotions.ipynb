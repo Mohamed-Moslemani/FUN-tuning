{
 "cells": [
  {
   "cell_type": "markdown",
   "metadata": {},
   "source": [
    "## Assignment: Aspect-Based Emotion Detection - Dataset: https://www.kaggle.com/datasets/lazaro97/the-last-of-us-reviews"
   ]
  },
  {
   "cell_type": "code",
   "execution_count": 26,
   "metadata": {},
   "outputs": [
    {
     "name": "stderr",
     "output_type": "stream",
     "text": [
      "[nltk_data] Downloading package punkt to\n",
      "[nltk_data]     C:\\Users\\moham\\AppData\\Roaming\\nltk_data...\n",
      "[nltk_data]   Package punkt is already up-to-date!\n"
     ]
    }
   ],
   "source": [
    "##imports\n",
    "import pandas as pd\n",
    "import numpy as np\n",
    "import matplotlib.pyplot as plt \n",
    "import os\n",
    "import re\n",
    "import gensim.downloader as api\n",
    "import numpy as np\n",
    "from sklearn.linear_model import LogisticRegression\n",
    "from sklearn.model_selection import train_test_split\n",
    "from deep_translator import GoogleTranslator\n",
    "from sklearn.metrics import classification_report\n",
    "import nltk\n",
    "from sklearn.decomposition import PCA\n",
    "from sklearn.cluster import KMeans\n",
    "from transformers import AutoTokenizer, AutoModel\n",
    "import torch\n",
    "from nltk.tokenize import word_tokenize\n",
    "from gensim.models import Word2Vec\n",
    "from collections import defaultdict\n",
    "\n",
    "nltk.download('punkt')\n",
    "pd.set_option('display.max_colwidth',None)"
   ]
  },
  {
   "cell_type": "code",
   "execution_count": 10,
   "metadata": {},
   "outputs": [
    {
     "data": {
      "text/html": [
       "<div>\n",
       "<style scoped>\n",
       "    .dataframe tbody tr th:only-of-type {\n",
       "        vertical-align: middle;\n",
       "    }\n",
       "\n",
       "    .dataframe tbody tr th {\n",
       "        vertical-align: top;\n",
       "    }\n",
       "\n",
       "    .dataframe thead th {\n",
       "        text-align: right;\n",
       "    }\n",
       "</style>\n",
       "<table border=\"1\" class=\"dataframe\">\n",
       "  <thead>\n",
       "    <tr style=\"text-align: right;\">\n",
       "      <th></th>\n",
       "      <th>id</th>\n",
       "      <th>review</th>\n",
       "      <th>date</th>\n",
       "      <th>score</th>\n",
       "      <th>platform</th>\n",
       "      <th>type_review</th>\n",
       "      <th>language</th>\n",
       "      <th>views</th>\n",
       "      <th>votes</th>\n",
       "      <th>split</th>\n",
       "    </tr>\n",
       "  </thead>\n",
       "  <tbody>\n",
       "    <tr>\n",
       "      <th>0</th>\n",
       "      <td>Cubed3</td>\n",
       "      <td>A post-apocalyptic road trip that offers a fantastic, riveting experience, where destruction and beauty, and hope and despair, get entwined in a way that’s nothing short of genius, The Last of Us is so good that its somewhat repetitive, and occasionally dull gameplay isn’t enough to rob it of its rightful place amongst the video game greats. Therefore, if looking for an unforgettable action-adventure, with strong cinematic sensibilities, and a heavy emphasis in adult, character-driven storytelling, look no further than Naughty Dog’s classic, especially now that the remastered version has made the original even more stunning.</td>\n",
       "      <td>2020-07-28</td>\n",
       "      <td>90.0</td>\n",
       "      <td>NaN</td>\n",
       "      <td>NaN</td>\n",
       "      <td>NaN</td>\n",
       "      <td>NaN</td>\n",
       "      <td>NaN</td>\n",
       "      <td>NaN</td>\n",
       "    </tr>\n",
       "    <tr>\n",
       "      <th>1</th>\n",
       "      <td>NaN</td>\n",
       "      <td>Visual improvements and three included DLCs don’t justify buying this game again, but if you haven’t played it on PS3 yet, you’re in for long hours of valuable entertainment. [Sept 2014, p.59]</td>\n",
       "      <td>2014-10-22</td>\n",
       "      <td>80.0</td>\n",
       "      <td>NaN</td>\n",
       "      <td>NaN</td>\n",
       "      <td>NaN</td>\n",
       "      <td>NaN</td>\n",
       "      <td>NaN</td>\n",
       "      <td>NaN</td>\n",
       "    </tr>\n",
       "    <tr>\n",
       "      <th>2</th>\n",
       "      <td>NaN</td>\n",
       "      <td>One of the best titles of the previous generation is now available in all the next-gen glory and also with all the DLCs. Take it or leave it. [Issue#245]</td>\n",
       "      <td>2014-10-13</td>\n",
       "      <td>100.0</td>\n",
       "      <td>NaN</td>\n",
       "      <td>NaN</td>\n",
       "      <td>NaN</td>\n",
       "      <td>NaN</td>\n",
       "      <td>NaN</td>\n",
       "      <td>NaN</td>\n",
       "    </tr>\n",
       "    <tr>\n",
       "      <th>3</th>\n",
       "      <td>NaN</td>\n",
       "      <td>For the most part, the mind-blowing experience you remember with true new-gen visuals. No PS4 library is complete without this. [October 2014, p70]</td>\n",
       "      <td>2014-09-19</td>\n",
       "      <td>100.0</td>\n",
       "      <td>NaN</td>\n",
       "      <td>NaN</td>\n",
       "      <td>NaN</td>\n",
       "      <td>NaN</td>\n",
       "      <td>NaN</td>\n",
       "      <td>NaN</td>\n",
       "    </tr>\n",
       "    <tr>\n",
       "      <th>4</th>\n",
       "      <td>Eurogamer Portugal</td>\n",
       "      <td>The Last of Us is one of the easiest games to recommend to any player, from the ones who like to occasionally play to the hardcore that want to explore everything. The release of The Last of Us: Remastered makes its acquisition even more attractive game and remembers those who have not played that it’s not too late to know this landmark in video game history.</td>\n",
       "      <td>2014-09-05</td>\n",
       "      <td>100.0</td>\n",
       "      <td>NaN</td>\n",
       "      <td>NaN</td>\n",
       "      <td>NaN</td>\n",
       "      <td>NaN</td>\n",
       "      <td>NaN</td>\n",
       "      <td>NaN</td>\n",
       "    </tr>\n",
       "  </tbody>\n",
       "</table>\n",
       "</div>"
      ],
      "text/plain": [
       "                   id  \\\n",
       "0              Cubed3   \n",
       "1                 NaN   \n",
       "2                 NaN   \n",
       "3                 NaN   \n",
       "4  Eurogamer Portugal   \n",
       "\n",
       "                                                                                                                                                                                                                                                                                                                                                                                                                                                                                                                                                                                                                                                     review  \\\n",
       "0  A post-apocalyptic road trip that offers a fantastic, riveting experience, where destruction and beauty, and hope and despair, get entwined in a way that’s nothing short of genius, The Last of Us is so good that its somewhat repetitive, and occasionally dull gameplay isn’t enough to rob it of its rightful place amongst the video game greats. Therefore, if looking for an unforgettable action-adventure, with strong cinematic sensibilities, and a heavy emphasis in adult, character-driven storytelling, look no further than Naughty Dog’s classic, especially now that the remastered version has made the original even more stunning.   \n",
       "1                                                                                                                                                                                                                                                                                                                                                                                                                                                          Visual improvements and three included DLCs don’t justify buying this game again, but if you haven’t played it on PS3 yet, you’re in for long hours of valuable entertainment. [Sept 2014, p.59]   \n",
       "2                                                                                                                                                                                                                                                                                                                                                                                                                                                                                                 One of the best titles of the previous generation is now available in all the next-gen glory and also with all the DLCs. Take it or leave it. [Issue#245]   \n",
       "3                                                                                                                                                                                                                                                                                                                                                                                                                                                                                                       For the most part, the mind-blowing experience you remember with true new-gen visuals. No PS4 library is complete without this. [October 2014, p70]   \n",
       "4                                                                                                                                                                                                                                                                                 The Last of Us is one of the easiest games to recommend to any player, from the ones who like to occasionally play to the hardcore that want to explore everything. The release of The Last of Us: Remastered makes its acquisition even more attractive game and remembers those who have not played that it’s not too late to know this landmark in video game history.   \n",
       "\n",
       "         date  score platform type_review language  views  votes split  \n",
       "0  2020-07-28   90.0      NaN         NaN      NaN    NaN    NaN   NaN  \n",
       "1  2014-10-22   80.0      NaN         NaN      NaN    NaN    NaN   NaN  \n",
       "2  2014-10-13  100.0      NaN         NaN      NaN    NaN    NaN   NaN  \n",
       "3  2014-09-19  100.0      NaN         NaN      NaN    NaN    NaN   NaN  \n",
       "4  2014-09-05  100.0      NaN         NaN      NaN    NaN    NaN   NaN  "
      ]
     },
     "execution_count": 10,
     "metadata": {},
     "output_type": "execute_result"
    }
   ],
   "source": [
    "##dataset combining and loading\n",
    "file_names = [\n",
    "    'critic_reviews_g1.csv',\n",
    "    'critic_reviews_g1u.csv',\n",
    "    'critic_reviews_g2.csv',\n",
    "    'critic_reviews_lb.csv',\n",
    "    'user_reviews_g1.csv',\n",
    "    'user_reviews_g1u.csv',\n",
    "    'user_reviews_g2.csv',\n",
    "    'user_reviews_g2u.csv',\n",
    "    'user_reviews_lb.csv'\n",
    "]\n",
    "\n",
    "dataframes = []\n",
    "\n",
    "for file_name in file_names:\n",
    "    df = pd.read_csv(file_name)  \n",
    "    dataframes.append(df)  \n",
    "\n",
    "combined_df = pd.concat(dataframes, ignore_index=True)\n",
    "\n",
    "(combined_df.head())\n",
    "\n"
   ]
  },
  {
   "cell_type": "code",
   "execution_count": 11,
   "metadata": {},
   "outputs": [],
   "source": [
    "##dropping unecessary columns\n",
    "combined_df.drop(columns=['date','score','platform','type_review','language','views','votes','split'],inplace=True)"
   ]
  },
  {
   "cell_type": "code",
   "execution_count": 12,
   "metadata": {},
   "outputs": [],
   "source": [
    "##taking a small sample of the df for computational limitations\n",
    "df = combined_df.sample(n=100)\n",
    "\n",
    "##using google translator to translate the english sentences\n",
    "translator = GoogleTranslator(source='en', target='ar')\n",
    "google_translations = [translator.translate(sentence) for sentence in df['review']]\n"
   ]
  },
  {
   "cell_type": "code",
   "execution_count": 13,
   "metadata": {},
   "outputs": [],
   "source": [
    "##creating a df for the translated reviews\n",
    "df = pd.DataFrame({\n",
    "    'English reviews': df['review'],\n",
    "    'Arabic reviews': google_translations\n",
    "})\n",
    "df.reset_index(inplace=True,drop=True)"
   ]
  },
  {
   "cell_type": "code",
   "execution_count": 14,
   "metadata": {},
   "outputs": [
    {
     "data": {
      "text/html": [
       "<div>\n",
       "<style scoped>\n",
       "    .dataframe tbody tr th:only-of-type {\n",
       "        vertical-align: middle;\n",
       "    }\n",
       "\n",
       "    .dataframe tbody tr th {\n",
       "        vertical-align: top;\n",
       "    }\n",
       "\n",
       "    .dataframe thead th {\n",
       "        text-align: right;\n",
       "    }\n",
       "</style>\n",
       "<table border=\"1\" class=\"dataframe\">\n",
       "  <thead>\n",
       "    <tr style=\"text-align: right;\">\n",
       "      <th></th>\n",
       "      <th>English reviews</th>\n",
       "      <th>Arabic reviews</th>\n",
       "    </tr>\n",
       "  </thead>\n",
       "  <tbody>\n",
       "    <tr>\n",
       "      <th>0</th>\n",
       "      <td>Muito ruim, sério o final desse jogo é o pior dos jogos triplo A de todos os tempos, nada faz sentido e o desrespeito sobre os protagonistas e jogadores do primeiro é gigantesca. Esse jogo tem uma lacração tão forçada que vai te fazer vomitar. 0/10 pq a gameplay e os gráficos são bons mas a história é tão RUIM que acabou pesando imensamente nessa análise</td>\n",
       "      <td>الكثير من الوقت، سلسلة أو نهائية من اللعبة هي أفضل لعبتين ثلاثية في جميع الأوقات، لا شيء يشعر بها ولا ينقصها شعور بالأبطال وملاعبي أول مرة عملاقة. هذه اللعبة تحتوي على دمع يفرض عليك القيء. 0/10 جزء من اللعب والرسومات أفضل من التاريخ هو RUIM الذي لا يتم تحليله بشكل كبير</td>\n",
       "    </tr>\n",
       "    <tr>\n",
       "      <th>1</th>\n",
       "      <td>One of the worst games I’ve ever played, this fame has motivated me to turn in my ps4 and all my video games. Very slow in the beginning, doesn’t feel like a new game, feels like an expansion of the first. Poor narrative designs really big this game down. 0/10</td>\n",
       "      <td>واحدة من أسوأ الألعاب التي لعبتها على الإطلاق، وقد شجعتني هذه الشهرة على التخلي عن جهاز PS4 وجميع ألعاب الفيديو التي أملكها. اللعبة بطيئة للغاية في البداية، ولا تبدو وكأنها لعبة جديدة، بل تبدو وكأنها توسعة للعبة الأولى. تصميمات السرد الرديئة تجعل هذه اللعبة سيئة للغاية. 0/10</td>\n",
       "    </tr>\n",
       "    <tr>\n",
       "      <th>2</th>\n",
       "      <td>이 씨1발 니 이름은 이제부터 pc트럭이야 이 갯샠이야,,스토리 중심 게임에서 스토리를 예술병 처걸린 상태로 쓰는게 정상이냐 이 개같은,,1 플레이한 유저들 기만한거야 넌,,폭풍전야 같은 새끼야</td>\n",
       "      <td>تم إنشاء هذا التطبيق رقم 1 على جهاز كمبيوتر شخصي،، وهو عبارة عن جهاز كمبيوتر شخصي قم بتمديد الوقت الذي يستغرقه الأمر،، 1 أسبوع من العمل في المنزل،،السفر 같은 새끼야</td>\n",
       "    </tr>\n",
       "    <tr>\n",
       "      <th>3</th>\n",
       "      <td>This game will try to emotionally break you. Questionable scenario, but brilliant from all technicals sides. The best game to play for the last couple of years.</td>\n",
       "      <td>ستحاول هذه اللعبة أن تكسرك عاطفيًا. سيناريو مثير للشكوك، لكنه رائع من جميع النواحي الفنية. إنها أفضل لعبة يمكنك لعبها خلال العامين الماضيين.</td>\n",
       "    </tr>\n",
       "    <tr>\n",
       "      <th>4</th>\n",
       "      <td>For me the story was perfect. It's so interesting that in the first game they established joel and ellie as sympathetic characters, but not necessarily loveable. joel is made apathetic by grief and ellie's naive and a bit awkward; regardless, we grow to love them for all their complexities. in the end, joel makes a terrible decision that's the right one for him, and the audience may not agree but /everyone/ understands him, and most forgive it because they love him and ellie.,In this game, they took loveable characters and said yes, they're sympathetic, but they're not the heroes and you're not going to forget it. and honestly? that's incredible writing, because it /hurts/. it would've been so easy to tell a similar story with characters we don't know so it doesn't 'ruin' ellie and joel, but that's the point- we feel it because they matter to us, this whole game is so personal to gamers because of the successes of the first game. we're invested, we care, we want them to live and we want them to be happy and that's not what this story is. they're complex, they're traumatised, they make bad choices. but they love each other. we love them.,No one has to like this game, but no one can say they don't feel anything while playing it.,**** the haters</td>\n",
       "      <td>بالنسبة لي كانت القصة مثالية. من المثير للاهتمام أنه في اللعبة الأولى، جعلوا من جويل وإيلي شخصيتين متعاطفتين، لكنهما ليسا محبوبتين بالضرورة. أصبح جويل غير مبالٍ بسبب الحزن وسذاجة إيلي وغرابتها بعض الشيء؛ بغض النظر عن ذلك، أصبحنا نحبهما على الرغم من كل تعقيداتهما. في النهاية، اتخذ جويل قرارًا فظيعًا كان القرار الصحيح بالنسبة له، وقد لا يتفق الجمهور معه ولكن /الجميع/ يفهمونه، ومعظمهم يسامحونه لأنهم يحبونه وإيلي. في هذه اللعبة، أخذوا شخصيات محبوبة وقالوا نعم، إنها متعاطفة، لكنهم ليسوا الأبطال ولن تنسى ذلك. وبصراحة؟ هذه كتابة لا تصدق، لأنها /مؤلمة/. كان من السهل جدًا سرد قصة مماثلة بشخصيات لا نعرفها حتى لا \"تدمر\" إيلي وجويل، لكن هذه هي النقطة - نشعر بها لأنهم مهمون بالنسبة لنا، هذه اللعبة بأكملها شخصية للغاية بالنسبة للاعبين بسبب نجاحات اللعبة الأولى. نحن نستثمر فيهم، ونهتم بهم، ونريد لهم أن يعيشوا ونريد لهم أن يكونوا سعداء، وهذه ليست القصة. إنهم معقدون، ومصدومون، ويتخذون خيارات سيئة. لكنهم يحبون بعضهم البعض. نحن نحبهم. لا أحد مضطر إلى الإعجاب بهذه اللعبة، لكن لا أحد يستطيع أن يقول إنه لا يشعر بأي شيء أثناء لعبها.</td>\n",
       "    </tr>\n",
       "  </tbody>\n",
       "</table>\n",
       "</div>"
      ],
      "text/plain": [
       "                                                                                                                                                                                                                                                                                                                                                                                                                                                                                                                                                                                                                                                                                                                                                                                                                                                                                                                                                                                                                                                                                                                                                                                                                                                                                                  English reviews  \\\n",
       "0                                                                                                                                                                                                                                                                                                                                                                                                                                                                                                                                                                                                                                                                                                                                                                                                                                                                                                                                            Muito ruim, sério o final desse jogo é o pior dos jogos triplo A de todos os tempos, nada faz sentido e o desrespeito sobre os protagonistas e jogadores do primeiro é gigantesca. Esse jogo tem uma lacração tão forçada que vai te fazer vomitar. 0/10 pq a gameplay e os gráficos são bons mas a história é tão RUIM que acabou pesando imensamente nessa análise   \n",
       "1                                                                                                                                                                                                                                                                                                                                                                                                                                                                                                                                                                                                                                                                                                                                                                                                                                                                                                                                                                                                                                            One of the worst games I’ve ever played, this fame has motivated me to turn in my ps4 and all my video games. Very slow in the beginning, doesn’t feel like a new game, feels like an expansion of the first. Poor narrative designs really big this game down. 0/10   \n",
       "2                                                                                                                                                                                                                                                                                                                                                                                                                                                                                                                                                                                                                                                                                                                                                                                                                                                                                                                                                                                                                                                                                                                                                                                                    이 씨1발 니 이름은 이제부터 pc트럭이야 이 갯샠이야,,스토리 중심 게임에서 스토리를 예술병 처걸린 상태로 쓰는게 정상이냐 이 개같은,,1 플레이한 유저들 기만한거야 넌,,폭풍전야 같은 새끼야   \n",
       "3                                                                                                                                                                                                                                                                                                                                                                                                                                                                                                                                                                                                                                                                                                                                                                                                                                                                                                                                                                                                                                                                                                                                                This game will try to emotionally break you. Questionable scenario, but brilliant from all technicals sides. The best game to play for the last couple of years.   \n",
       "4  For me the story was perfect. It's so interesting that in the first game they established joel and ellie as sympathetic characters, but not necessarily loveable. joel is made apathetic by grief and ellie's naive and a bit awkward; regardless, we grow to love them for all their complexities. in the end, joel makes a terrible decision that's the right one for him, and the audience may not agree but /everyone/ understands him, and most forgive it because they love him and ellie.,In this game, they took loveable characters and said yes, they're sympathetic, but they're not the heroes and you're not going to forget it. and honestly? that's incredible writing, because it /hurts/. it would've been so easy to tell a similar story with characters we don't know so it doesn't 'ruin' ellie and joel, but that's the point- we feel it because they matter to us, this whole game is so personal to gamers because of the successes of the first game. we're invested, we care, we want them to live and we want them to be happy and that's not what this story is. they're complex, they're traumatised, they make bad choices. but they love each other. we love them.,No one has to like this game, but no one can say they don't feel anything while playing it.,**** the haters   \n",
       "\n",
       "                                                                                                                                                                                                                                                                                                                                                                                                                                                                                                                                                                                                                                                                                                                                                                                                                                                                                                                                                                                                                                                      Arabic reviews  \n",
       "0                                                                                                                                                                                                                                                                                                                                                                                                                                                                                                                                                                                                                                                                                                                                                                                      الكثير من الوقت، سلسلة أو نهائية من اللعبة هي أفضل لعبتين ثلاثية في جميع الأوقات، لا شيء يشعر بها ولا ينقصها شعور بالأبطال وملاعبي أول مرة عملاقة. هذه اللعبة تحتوي على دمع يفرض عليك القيء. 0/10 جزء من اللعب والرسومات أفضل من التاريخ هو RUIM الذي لا يتم تحليله بشكل كبير  \n",
       "1                                                                                                                                                                                                                                                                                                                                                                                                                                                                                                                                                                                                                                                                                                                                                                                واحدة من أسوأ الألعاب التي لعبتها على الإطلاق، وقد شجعتني هذه الشهرة على التخلي عن جهاز PS4 وجميع ألعاب الفيديو التي أملكها. اللعبة بطيئة للغاية في البداية، ولا تبدو وكأنها لعبة جديدة، بل تبدو وكأنها توسعة للعبة الأولى. تصميمات السرد الرديئة تجعل هذه اللعبة سيئة للغاية. 0/10  \n",
       "2                                                                                                                                                                                                                                                                                                                                                                                                                                                                                                                                                                                                                                                                                                                                                                                                                                                                                                    تم إنشاء هذا التطبيق رقم 1 على جهاز كمبيوتر شخصي،، وهو عبارة عن جهاز كمبيوتر شخصي قم بتمديد الوقت الذي يستغرقه الأمر،، 1 أسبوع من العمل في المنزل،،السفر 같은 새끼야  \n",
       "3                                                                                                                                                                                                                                                                                                                                                                                                                                                                                                                                                                                                                                                                                                                                                                                                                                                                                                                       ستحاول هذه اللعبة أن تكسرك عاطفيًا. سيناريو مثير للشكوك، لكنه رائع من جميع النواحي الفنية. إنها أفضل لعبة يمكنك لعبها خلال العامين الماضيين.  \n",
       "4  بالنسبة لي كانت القصة مثالية. من المثير للاهتمام أنه في اللعبة الأولى، جعلوا من جويل وإيلي شخصيتين متعاطفتين، لكنهما ليسا محبوبتين بالضرورة. أصبح جويل غير مبالٍ بسبب الحزن وسذاجة إيلي وغرابتها بعض الشيء؛ بغض النظر عن ذلك، أصبحنا نحبهما على الرغم من كل تعقيداتهما. في النهاية، اتخذ جويل قرارًا فظيعًا كان القرار الصحيح بالنسبة له، وقد لا يتفق الجمهور معه ولكن /الجميع/ يفهمونه، ومعظمهم يسامحونه لأنهم يحبونه وإيلي. في هذه اللعبة، أخذوا شخصيات محبوبة وقالوا نعم، إنها متعاطفة، لكنهم ليسوا الأبطال ولن تنسى ذلك. وبصراحة؟ هذه كتابة لا تصدق، لأنها /مؤلمة/. كان من السهل جدًا سرد قصة مماثلة بشخصيات لا نعرفها حتى لا \"تدمر\" إيلي وجويل، لكن هذه هي النقطة - نشعر بها لأنهم مهمون بالنسبة لنا، هذه اللعبة بأكملها شخصية للغاية بالنسبة للاعبين بسبب نجاحات اللعبة الأولى. نحن نستثمر فيهم، ونهتم بهم، ونريد لهم أن يعيشوا ونريد لهم أن يكونوا سعداء، وهذه ليست القصة. إنهم معقدون، ومصدومون، ويتخذون خيارات سيئة. لكنهم يحبون بعضهم البعض. نحن نحبهم. لا أحد مضطر إلى الإعجاب بهذه اللعبة، لكن لا أحد يستطيع أن يقول إنه لا يشعر بأي شيء أثناء لعبها.  "
      ]
     },
     "execution_count": 14,
     "metadata": {},
     "output_type": "execute_result"
    }
   ],
   "source": [
    "df.head()"
   ]
  },
  {
   "cell_type": "code",
   "execution_count": 15,
   "metadata": {},
   "outputs": [],
   "source": [
    "##dropping null values if any and tokenization\n",
    "reviews = df['Arabic reviews'].dropna()  \n",
    "\n",
    "\n",
    "df['tokens'] = df['Arabic reviews'].apply(lambda x: word_tokenize(x))\n"
   ]
  },
  {
   "cell_type": "markdown",
   "metadata": {},
   "source": [
    "##### Using ARAbert with k-means to classify the reviews"
   ]
  },
  {
   "cell_type": "code",
   "execution_count": 25,
   "metadata": {},
   "outputs": [],
   "source": [
    "##calling arabert model\n",
    "model_name = \"aubmindlab/bert-base-arabertv02\"\n",
    "tokenizer = AutoTokenizer.from_pretrained(model_name)\n",
    "model = AutoModel.from_pretrained(model_name)"
   ]
  },
  {
   "cell_type": "code",
   "execution_count": 17,
   "metadata": {},
   "outputs": [],
   "source": [
    "## dense vectors embeddings using ARAbert \n",
    "def get_embedding(sentence):\n",
    "    inputs = tokenizer(sentence, return_tensors=\"pt\", truncation=True, padding=True)\n",
    "    outputs = model(**inputs)\n",
    "    cls_embedding = outputs.last_hidden_state[:, 0, :].detach().numpy()\n",
    "    return cls_embedding"
   ]
  },
  {
   "cell_type": "code",
   "execution_count": 18,
   "metadata": {},
   "outputs": [],
   "source": [
    "##calling the function and getting the embeddings for each review + concatting into a tensor\n",
    "embeddings = [get_embedding(sentence) for sentence in df['Arabic reviews']]\n",
    "embeddings = torch.cat([torch.tensor(emb) for emb in embeddings])"
   ]
  },
  {
   "cell_type": "code",
   "execution_count": 20,
   "metadata": {},
   "outputs": [
    {
     "name": "stderr",
     "output_type": "stream",
     "text": [
      "C:\\Users\\moham\\AppData\\Roaming\\Python\\Python311\\site-packages\\sklearn\\cluster\\_kmeans.py:870: FutureWarning: The default value of `n_init` will change from 10 to 'auto' in 1.4. Set the value of `n_init` explicitly to suppress the warning\n",
      "  warnings.warn(\n",
      "C:\\Users\\moham\\AppData\\Roaming\\Python\\Python311\\site-packages\\sklearn\\cluster\\_kmeans.py:1382: UserWarning: KMeans is known to have a memory leak on Windows with MKL, when there are less chunks than available threads. You can avoid it by setting the environment variable OMP_NUM_THREADS=1.\n",
      "  warnings.warn(\n"
     ]
    }
   ],
   "source": [
    "##calling k-means for unsupervised classification\n",
    "n_clusters = 3\n",
    "kmeans = KMeans(n_clusters=n_clusters, random_state=42)\n",
    "kmeans.fit(embeddings)\n",
    "\n",
    "cluster_labels = kmeans.labels_"
   ]
  },
  {
   "cell_type": "code",
   "execution_count": 29,
   "metadata": {},
   "outputs": [
    {
     "data": {
      "text/html": [
       "<div>\n",
       "<style scoped>\n",
       "    .dataframe tbody tr th:only-of-type {\n",
       "        vertical-align: middle;\n",
       "    }\n",
       "\n",
       "    .dataframe tbody tr th {\n",
       "        vertical-align: top;\n",
       "    }\n",
       "\n",
       "    .dataframe thead th {\n",
       "        text-align: right;\n",
       "    }\n",
       "</style>\n",
       "<table border=\"1\" class=\"dataframe\">\n",
       "  <thead>\n",
       "    <tr style=\"text-align: right;\">\n",
       "      <th></th>\n",
       "      <th>Arabic Review</th>\n",
       "      <th>Cluster</th>\n",
       "    </tr>\n",
       "  </thead>\n",
       "  <tbody>\n",
       "    <tr>\n",
       "      <th>0</th>\n",
       "      <td>الكثير من الوقت، سلسلة أو نهائية من اللعبة هي أفضل لعبتين ثلاثية في جميع الأوقات، لا شيء يشعر بها ولا ينقصها شعور بالأبطال وملاعبي أول مرة عملاقة. هذه اللعبة تحتوي على دمع يفرض عليك القيء. 0/10 جزء من اللعب والرسومات أفضل من التاريخ هو RUIM الذي لا يتم تحليله بشكل كبير</td>\n",
       "      <td>1</td>\n",
       "    </tr>\n",
       "    <tr>\n",
       "      <th>1</th>\n",
       "      <td>واحدة من أسوأ الألعاب التي لعبتها على الإطلاق، وقد شجعتني هذه الشهرة على التخلي عن جهاز PS4 وجميع ألعاب الفيديو التي أملكها. اللعبة بطيئة للغاية في البداية، ولا تبدو وكأنها لعبة جديدة، بل تبدو وكأنها توسعة للعبة الأولى. تصميمات السرد الرديئة تجعل هذه اللعبة سيئة للغاية. 0/10</td>\n",
       "      <td>1</td>\n",
       "    </tr>\n",
       "    <tr>\n",
       "      <th>2</th>\n",
       "      <td>تم إنشاء هذا التطبيق رقم 1 على جهاز كمبيوتر شخصي،، وهو عبارة عن جهاز كمبيوتر شخصي قم بتمديد الوقت الذي يستغرقه الأمر،، 1 أسبوع من العمل في المنزل،،السفر 같은 새끼야</td>\n",
       "      <td>2</td>\n",
       "    </tr>\n",
       "    <tr>\n",
       "      <th>3</th>\n",
       "      <td>ستحاول هذه اللعبة أن تكسرك عاطفيًا. سيناريو مثير للشكوك، لكنه رائع من جميع النواحي الفنية. إنها أفضل لعبة يمكنك لعبها خلال العامين الماضيين.</td>\n",
       "      <td>1</td>\n",
       "    </tr>\n",
       "    <tr>\n",
       "      <th>4</th>\n",
       "      <td>بالنسبة لي كانت القصة مثالية. من المثير للاهتمام أنه في اللعبة الأولى، جعلوا من جويل وإيلي شخصيتين متعاطفتين، لكنهما ليسا محبوبتين بالضرورة. أصبح جويل غير مبالٍ بسبب الحزن وسذاجة إيلي وغرابتها بعض الشيء؛ بغض النظر عن ذلك، أصبحنا نحبهما على الرغم من كل تعقيداتهما. في النهاية، اتخذ جويل قرارًا فظيعًا كان القرار الصحيح بالنسبة له، وقد لا يتفق الجمهور معه ولكن /الجميع/ يفهمونه، ومعظمهم يسامحونه لأنهم يحبونه وإيلي. في هذه اللعبة، أخذوا شخصيات محبوبة وقالوا نعم، إنها متعاطفة، لكنهم ليسوا الأبطال ولن تنسى ذلك. وبصراحة؟ هذه كتابة لا تصدق، لأنها /مؤلمة/. كان من السهل جدًا سرد قصة مماثلة بشخصيات لا نعرفها حتى لا \"تدمر\" إيلي وجويل، لكن هذه هي النقطة - نشعر بها لأنهم مهمون بالنسبة لنا، هذه اللعبة بأكملها شخصية للغاية بالنسبة للاعبين بسبب نجاحات اللعبة الأولى. نحن نستثمر فيهم، ونهتم بهم، ونريد لهم أن يعيشوا ونريد لهم أن يكونوا سعداء، وهذه ليست القصة. إنهم معقدون، ومصدومون، ويتخذون خيارات سيئة. لكنهم يحبون بعضهم البعض. نحن نحبهم. لا أحد مضطر إلى الإعجاب بهذه اللعبة، لكن لا أحد يستطيع أن يقول إنه لا يشعر بأي شيء أثناء لعبها.</td>\n",
       "      <td>1</td>\n",
       "    </tr>\n",
       "  </tbody>\n",
       "</table>\n",
       "</div>"
      ],
      "text/plain": [
       "                                                                                                                                                                                                                                                                                                                                                                                                                                                                                                                                                                                                                                                                                                                                                                                                                                                                                                                                                                                                                                                       Arabic Review  \\\n",
       "0                                                                                                                                                                                                                                                                                                                                                                                                                                                                                                                                                                                                                                                                                                                                                                                      الكثير من الوقت، سلسلة أو نهائية من اللعبة هي أفضل لعبتين ثلاثية في جميع الأوقات، لا شيء يشعر بها ولا ينقصها شعور بالأبطال وملاعبي أول مرة عملاقة. هذه اللعبة تحتوي على دمع يفرض عليك القيء. 0/10 جزء من اللعب والرسومات أفضل من التاريخ هو RUIM الذي لا يتم تحليله بشكل كبير   \n",
       "1                                                                                                                                                                                                                                                                                                                                                                                                                                                                                                                                                                                                                                                                                                                                                                                واحدة من أسوأ الألعاب التي لعبتها على الإطلاق، وقد شجعتني هذه الشهرة على التخلي عن جهاز PS4 وجميع ألعاب الفيديو التي أملكها. اللعبة بطيئة للغاية في البداية، ولا تبدو وكأنها لعبة جديدة، بل تبدو وكأنها توسعة للعبة الأولى. تصميمات السرد الرديئة تجعل هذه اللعبة سيئة للغاية. 0/10   \n",
       "2                                                                                                                                                                                                                                                                                                                                                                                                                                                                                                                                                                                                                                                                                                                                                                                                                                                                                                    تم إنشاء هذا التطبيق رقم 1 على جهاز كمبيوتر شخصي،، وهو عبارة عن جهاز كمبيوتر شخصي قم بتمديد الوقت الذي يستغرقه الأمر،، 1 أسبوع من العمل في المنزل،،السفر 같은 새끼야   \n",
       "3                                                                                                                                                                                                                                                                                                                                                                                                                                                                                                                                                                                                                                                                                                                                                                                                                                                                                                                       ستحاول هذه اللعبة أن تكسرك عاطفيًا. سيناريو مثير للشكوك، لكنه رائع من جميع النواحي الفنية. إنها أفضل لعبة يمكنك لعبها خلال العامين الماضيين.   \n",
       "4  بالنسبة لي كانت القصة مثالية. من المثير للاهتمام أنه في اللعبة الأولى، جعلوا من جويل وإيلي شخصيتين متعاطفتين، لكنهما ليسا محبوبتين بالضرورة. أصبح جويل غير مبالٍ بسبب الحزن وسذاجة إيلي وغرابتها بعض الشيء؛ بغض النظر عن ذلك، أصبحنا نحبهما على الرغم من كل تعقيداتهما. في النهاية، اتخذ جويل قرارًا فظيعًا كان القرار الصحيح بالنسبة له، وقد لا يتفق الجمهور معه ولكن /الجميع/ يفهمونه، ومعظمهم يسامحونه لأنهم يحبونه وإيلي. في هذه اللعبة، أخذوا شخصيات محبوبة وقالوا نعم، إنها متعاطفة، لكنهم ليسوا الأبطال ولن تنسى ذلك. وبصراحة؟ هذه كتابة لا تصدق، لأنها /مؤلمة/. كان من السهل جدًا سرد قصة مماثلة بشخصيات لا نعرفها حتى لا \"تدمر\" إيلي وجويل، لكن هذه هي النقطة - نشعر بها لأنهم مهمون بالنسبة لنا، هذه اللعبة بأكملها شخصية للغاية بالنسبة للاعبين بسبب نجاحات اللعبة الأولى. نحن نستثمر فيهم، ونهتم بهم، ونريد لهم أن يعيشوا ونريد لهم أن يكونوا سعداء، وهذه ليست القصة. إنهم معقدون، ومصدومون، ويتخذون خيارات سيئة. لكنهم يحبون بعضهم البعض. نحن نحبهم. لا أحد مضطر إلى الإعجاب بهذه اللعبة، لكن لا أحد يستطيع أن يقول إنه لا يشعر بأي شيء أثناء لعبها.   \n",
       "\n",
       "   Cluster  \n",
       "0        1  \n",
       "1        1  \n",
       "2        2  \n",
       "3        1  \n",
       "4        1  "
      ]
     },
     "execution_count": 29,
     "metadata": {},
     "output_type": "execute_result"
    }
   ],
   "source": [
    "##data set creation\n",
    "emotions_classified = pd.DataFrame({\n",
    "    'Arabic Review': df['Arabic reviews'],  \n",
    "    'Cluster': cluster_labels             \n",
    "})\n",
    "\n",
    "emotions_classified.head()"
   ]
  },
  {
   "cell_type": "code",
   "execution_count": 30,
   "metadata": {},
   "outputs": [],
   "source": [
    "##dimensionality reduction for visualizing the clusters\n",
    "pca = PCA(n_components=2)\n",
    "embeddings_2d = pca.fit_transform(embeddings)"
   ]
  },
  {
   "cell_type": "code",
   "execution_count": 27,
   "metadata": {},
   "outputs": [
    {
     "data": {
      "image/png": "[encoded data removed]",
      "text/plain": [
       "<Figure size 800x600 with 1 Axes>"
      ]
     },
     "metadata": {},
     "output_type": "display_data"
    }
   ],
   "source": [
    "##cluster visuals\n",
    "plt.figure(figsize=(8, 6))\n",
    "scatter = plt.scatter(embeddings_2d[:, 0], embeddings_2d[:, 1], c=cluster_labels, cmap='viridis')\n",
    "\n",
    "legend1 = plt.legend(*scatter.legend_elements(), title=\"Clusters\")\n",
    "plt.gca().add_artist(legend1)\n",
    "\n",
    "plt.title('Cluster Visualization (PCA)')\n",
    "plt.xlabel('PCA Component 1')\n",
    "plt.ylabel('PCA Component 2')\n",
    "\n",
    "plt.show()"
   ]
  },
  {
   "cell_type": "markdown",
   "metadata": {},
   "source": [
    "##### I would like to highlight the following: I took the approach of unsupervised learning with a dataset that is not labelled, creating an embedding using arabert and then clusterring based on that embedding. This approach allows us to tackle more robust datasets, that are not labelled, which is usually the case. While I could've used the score variable and create a rule-based script to label the data, this can be extended on later. My approach focuses on establishing an understanding on unlabelled datasets and our ability to extract most info using a combination of different algorithms, while also successively achieving the goal of identifying/classifying for respective emotions."
   ]
  },
  {
   "cell_type": "markdown",
   "metadata": {},
   "source": []
  }
 ],
 "metadata": {
  "kernelspec": {
   "display_name": "base",
   "language": "python",
   "name": "python3"
  },
  "language_info": {
   "codemirror_mode": {
    "name": "ipython",
    "version": 3
   },
   "file_extension": ".py",
   "mimetype": "text/x-python",
   "name": "python",
   "nbconvert_exporter": "python",
   "pygments_lexer": "ipython3",
   "version": "3.11.5"
  }
 },
 "nbformat": 4,
 "nbformat_minor": 2
}
