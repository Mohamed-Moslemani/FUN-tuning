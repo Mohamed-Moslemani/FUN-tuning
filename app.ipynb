{
 "cells": [
  {
   "cell_type": "markdown",
   "metadata": {},
   "source": [
    "## Assignment two: Named entity recognition"
   ]
  },
  {
   "cell_type": "markdown",
   "metadata": {},
   "source": [
    "##### Necessary imports"
   ]
  },
  {
   "cell_type": "code",
   "execution_count": 13,
   "metadata": {},
   "outputs": [
    {
     "name": "stderr",
     "output_type": "stream",
     "text": [
      "[nltk_data] Downloading package punkt to\n",
      "[nltk_data]     C:\\Users\\moham\\AppData\\Roaming\\nltk_data...\n",
      "[nltk_data]   Package punkt is already up-to-date!\n"
     ]
    }
   ],
   "source": [
    "import pandas as pd \n",
    "import numpy as np \n",
    "import re\n",
    "import nltk\n",
    "nltk.download('punkt')  # Download tokenizer for Arabic\n",
    "from nltk.tokenize import word_tokenize\n",
    "import sklearn \n",
    "import sklearn_crfsuite\n",
    "from sklearn_crfsuite import metrics"
   ]
  },
  {
   "cell_type": "markdown",
   "metadata": {},
   "source": [
    "##### Data creation"
   ]
  },
  {
   "cell_type": "code",
   "execution_count": 2,
   "metadata": {},
   "outputs": [],
   "source": [
    "data = [\n",
    "    {\"sentence\": \"زار محمد دبي في ٢٠٢٣.\", \"entities\": {\"Person\": \"محمد\", \"Location\": \"دبي\", \"Date\": \"٢٠٢٣\"}},\n",
    "    {\"sentence\": \"حضرت مريم مؤتمر جوجل في باريس.\", \"entities\": {\"Person\": \"مريم\", \"Organization\": \"جوجل\", \"Location\": \"باريس\"}},\n",
    "    {\"sentence\": \"أسس أحمد شركة الفجر في عام ٢٠١٩.\", \"entities\": {\"Person\": \"أحمد\", \"Organization\": \"شركة الفجر\", \"Date\": \"٢٠١٩\"}},\n",
    "    {\"sentence\": \"تعمل سارة في مستشفى الجامعة في بيروت.\", \"entities\": {\"Person\": \"سارة\", \"Organization\": \"مستشفى الجامعة\", \"Location\": \"بيروت\"}},\n",
    "    {\"sentence\": \"أقيمت الدورة الأولمبية في طوكيو ٢٠٢١.\", \"entities\": {\"Event\": \"الدورة الأولمبية\", \"Location\": \"طوكيو\", \"Date\": \"٢٠٢١\"}},\n",
    "    {\"sentence\": \"قدم خالد مشروعه في اجتماع مايكروسوفت.\", \"entities\": {\"Person\": \"خالد\", \"Organization\": \"مايكروسوفت\", \"Event\": \"اجتماع\"}},\n",
    "    {\"sentence\": \"افتتح وليد مطعم الورد في جدة.\", \"entities\": {\"Person\": \"وليد\", \"Organization\": \"مطعم الورد\", \"Location\": \"جدة\"}},\n",
    "    {\"sentence\": \"التقى علي بشركة آبل في مؤتمر دبي.\", \"entities\": {\"Person\": \"علي\", \"Organization\": \"آبل\", \"Event\": \"مؤتمر\", \"Location\": \"دبي\"}},\n",
    "    {\"sentence\": \"أرسلت ندى طلبًا إلى جامعة القاهرة.\", \"entities\": {\"Person\": \"ندى\", \"Organization\": \"جامعة القاهرة\", \"Location\": \"القاهرة\"}},\n",
    "    {\"sentence\": \"اشترى يوسف سيارة من تويوتا في ٢٠٢٠.\", \"entities\": {\"Person\": \"يوسف\", \"Organization\": \"تويوتا\", \"Date\": \"٢٠٢٠\"}},\n",
    "    {\"sentence\": \"سافرت ليلى إلى الإسكندرية في الصيف.\", \"entities\": {\"Person\": \"ليلى\", \"Location\": \"الإسكندرية\", \"Date\": \"الصيف\"}},\n",
    "    {\"sentence\": \"عقدت سامسونج مؤتمرًا في الرياض.\", \"entities\": {\"Organization\": \"سامسونج\", \"Event\": \"مؤتمر\", \"Location\": \"الرياض\"}},\n",
    "    {\"sentence\": \"يعيش طارق في القاهرة منذ عام ٢٠١٨.\", \"entities\": {\"Person\": \"طارق\", \"Location\": \"القاهرة\", \"Date\": \"٢٠١٨\"}},\n",
    "    {\"sentence\": \"شاركت نور في سباق ماراثون بيروت.\", \"entities\": {\"Person\": \"نور\", \"Event\": \"سباق ماراثون\", \"Location\": \"بيروت\"}},\n",
    "    {\"sentence\": \"قام الرئيس بزيارة المملكة العربية السعودية في مارس.\", \"entities\": {\"Person\": \"الرئيس\", \"Location\": \"المملكة العربية السعودية\", \"Date\": \"مارس\"}},\n",
    "    {\"sentence\": \"أطلقت فيسبوك ميزة جديدة في ٢٠٢٢.\", \"entities\": {\"Organization\": \"فيسبوك\", \"Date\": \"٢٠٢٢\"}},\n",
    "    {\"sentence\": \"شارك عمر في اجتماع هيئة الأمم المتحدة.\", \"entities\": {\"Person\": \"عمر\", \"Organization\": \"هيئة الأمم المتحدة\", \"Event\": \"اجتماع\"}},\n",
    "    {\"sentence\": \"فازت مصر ببطولة كأس العالم في ٢٠٢٢.\", \"entities\": {\"Location\": \"مصر\", \"Event\": \"بطولة كأس العالم\", \"Date\": \"٢٠٢٢\"}},\n",
    "    {\"sentence\": \"زار ماجد متحف اللوفر في باريس.\", \"entities\": {\"Person\": \"ماجد\", \"Location\": \"متحف اللوفر\", \"Location\": \"باريس\"}},\n",
    "    {\"sentence\": \"ألقى عبد الله خطابًا في منتدى الأمم المتحدة.\", \"entities\": {\"Person\": \"عبد الله\", \"Event\": \"خطاب\", \"Organization\": \"منتدى الأمم المتحدة\"}},\n",
    "    {\"sentence\": \"احتفلت عائلة حسان بعيد ميلاد لينا في لبنان.\", \"entities\": {\"Person\": \"لينا\", \"Location\": \"لبنان\"}},\n",
    "    {\"sentence\": \"زار وفد من الصين مقر الأمم المتحدة في نيويورك.\", \"entities\": {\"Location\": \"الصين\", \"Organization\": \"الأمم المتحدة\", \"Location\": \"نيويورك\"}},\n",
    "    {\"sentence\": \"يعمل علي في شركة مايكروسوفت منذ ٢٠١٥.\", \"entities\": {\"Person\": \"علي\", \"Organization\": \"شركة مايكروسوفت\", \"Date\": \"٢٠١٥\"}},\n",
    "    {\"sentence\": \"أعلنت أمازون عن افتتاح مقر جديد في لندن.\", \"entities\": {\"Organization\": \"أمازون\", \"Location\": \"لندن\"}},\n",
    "    {\"sentence\": \"زارت ليلى متحف القاهرة في ٢٠٢١.\", \"entities\": {\"Person\": \"ليلى\", \"Location\": \"متحف القاهرة\", \"Date\": \"٢٠٢١\"}},\n",
    "    {\"sentence\": \"أطلق سامر كتابًا جديدًا في معرض الكتاب في الدوحة.\", \"entities\": {\"Person\": \"سامر\", \"Event\": \"معرض الكتاب\", \"Location\": \"الدوحة\"}},\n",
    "    {\"sentence\": \"أسس مصطفى مدرسة الإبداع في الإمارات.\", \"entities\": {\"Person\": \"مصطفى\", \"Organization\": \"مدرسة الإبداع\", \"Location\": \"الإمارات\"}},\n",
    "    {\"sentence\": \"ألقى الرئيس خطابًا في مؤتمر القمة العربية.\", \"entities\": {\"Person\": \"الرئيس\", \"Event\": \"مؤتمر القمة العربية\"}},\n",
    "    {\"sentence\": \"قدمت رنا تقريرًا في ندوة جامعة الملك فهد.\", \"entities\": {\"Person\": \"رنا\", \"Event\": \"ندوة\", \"Organization\": \"جامعة الملك فهد\"}},\n",
    "    {\"sentence\": \"فاز فريق الهلال بكأس آسيا في ٢٠٢٠.\", \"entities\": {\"Organization\": \"فريق الهلال\", \"Event\": \"كأس آسيا\", \"Date\": \"٢٠٢٠\"}},\n",
    "    {\"sentence\": \"اشترت فاطمة منتجات من سوق أمازون في ٢٠٢٢.\", \"entities\": {\"Person\": \"فاطمة\", \"Organization\": \"أمازون\", \"Date\": \"٢٠٢٢\"}},\n",
    "    {\"sentence\": \"ألقى نادر محاضرة في جامعة بيروت العربية.\", \"entities\": {\"Person\": \"نادر\", \"Organization\": \"جامعة بيروت العربية\", \"Event\": \"محاضرة\"}},\n",
    "    {\"sentence\": \"عقدت شركة جوجل ندوة في القاهرة.\", \"entities\": {\"Organization\": \"شركة جوجل\", \"Event\": \"ندوة\", \"Location\": \"القاهرة\"}},\n",
    "    {\"sentence\": \"التقت نورهان بالسفيرة في اجتماع الأمم المتحدة.\", \"entities\": {\"Person\": \"نورهان\", \"Person\": \"السفيرة\", \"Event\": \"اجتماع\", \"Organization\": \"الأمم المتحدة\"}},\n",
    "    {\"sentence\": \"سافرت منى إلى تركيا لحضور مؤتمر.\", \"entities\": {\"Person\": \"منى\", \"Location\": \"تركيا\", \"Event\": \"مؤتمر\"}},\n",
    "    {\"sentence\": \"زار عمر برج خليفة في دبي.\", \"entities\": {\"Person\": \"عمر\", \"Location\": \"برج خليفة\", \"Location\": \"دبي\"}},\n",
    "    {\"sentence\": \"أعلنت شركة سامسونج عن هاتف جديد في ٢٠٢٣.\", \"entities\": {\"Organization\": \"شركة سامسونج\", \"Date\": \"٢٠٢٣\"}},\n",
    "    {\"sentence\": \"فاز منتخب السعودية ببطولة الخليج في ٢٠٢١.\", \"entities\": {\"Organization\": \"منتخب السعودية\", \"Event\": \"بطولة الخليج\", \"Date\": \"٢٠٢١\"}},\n",
    "    {\"sentence\": \"حضر خالد معرض الكتاب في الشارقة.\", \"entities\": {\"Person\": \"خالد\", \"Event\": \"معرض الكتاب\", \"Location\": \"الشارقة\"}},\n",
    "    {\"sentence\": \"سافرت ياسمين إلى اليابان لقضاء العطلة الصيفية.\", \"entities\": {\"Person\": \"ياسمين\", \"Location\": \"اليابان\", \"Date\": \"العطلة الصيفية\"}}\n",
    "]\n"
   ]
  },
  {
   "cell_type": "markdown",
   "metadata": {},
   "source": [
    "##### Initial inspection"
   ]
  },
  {
   "cell_type": "code",
   "execution_count": 3,
   "metadata": {},
   "outputs": [
    {
     "data": {
      "text/html": [
       "<div>\n",
       "<style scoped>\n",
       "    .dataframe tbody tr th:only-of-type {\n",
       "        vertical-align: middle;\n",
       "    }\n",
       "\n",
       "    .dataframe tbody tr th {\n",
       "        vertical-align: top;\n",
       "    }\n",
       "\n",
       "    .dataframe thead th {\n",
       "        text-align: right;\n",
       "    }\n",
       "</style>\n",
       "<table border=\"1\" class=\"dataframe\">\n",
       "  <thead>\n",
       "    <tr style=\"text-align: right;\">\n",
       "      <th></th>\n",
       "      <th>sentence</th>\n",
       "      <th>entities</th>\n",
       "    </tr>\n",
       "  </thead>\n",
       "  <tbody>\n",
       "    <tr>\n",
       "      <th>0</th>\n",
       "      <td>زار محمد دبي في ٢٠٢٣.</td>\n",
       "      <td>{'Person': 'محمد', 'Location': 'دبي', 'Date': ...</td>\n",
       "    </tr>\n",
       "    <tr>\n",
       "      <th>1</th>\n",
       "      <td>حضرت مريم مؤتمر جوجل في باريس.</td>\n",
       "      <td>{'Person': 'مريم', 'Organization': 'جوجل', 'Lo...</td>\n",
       "    </tr>\n",
       "    <tr>\n",
       "      <th>2</th>\n",
       "      <td>أسس أحمد شركة الفجر في عام ٢٠١٩.</td>\n",
       "      <td>{'Person': 'أحمد', 'Organization': 'شركة الفجر...</td>\n",
       "    </tr>\n",
       "    <tr>\n",
       "      <th>3</th>\n",
       "      <td>تعمل سارة في مستشفى الجامعة في بيروت.</td>\n",
       "      <td>{'Person': 'سارة', 'Organization': 'مستشفى الج...</td>\n",
       "    </tr>\n",
       "    <tr>\n",
       "      <th>4</th>\n",
       "      <td>أقيمت الدورة الأولمبية في طوكيو ٢٠٢١.</td>\n",
       "      <td>{'Event': 'الدورة الأولمبية', 'Location': 'طوك...</td>\n",
       "    </tr>\n",
       "  </tbody>\n",
       "</table>\n",
       "</div>"
      ],
      "text/plain": [
       "                                sentence  \\\n",
       "0                  زار محمد دبي في ٢٠٢٣.   \n",
       "1         حضرت مريم مؤتمر جوجل في باريس.   \n",
       "2       أسس أحمد شركة الفجر في عام ٢٠١٩.   \n",
       "3  تعمل سارة في مستشفى الجامعة في بيروت.   \n",
       "4  أقيمت الدورة الأولمبية في طوكيو ٢٠٢١.   \n",
       "\n",
       "                                            entities  \n",
       "0  {'Person': 'محمد', 'Location': 'دبي', 'Date': ...  \n",
       "1  {'Person': 'مريم', 'Organization': 'جوجل', 'Lo...  \n",
       "2  {'Person': 'أحمد', 'Organization': 'شركة الفجر...  \n",
       "3  {'Person': 'سارة', 'Organization': 'مستشفى الج...  \n",
       "4  {'Event': 'الدورة الأولمبية', 'Location': 'طوك...  "
      ]
     },
     "execution_count": 3,
     "metadata": {},
     "output_type": "execute_result"
    }
   ],
   "source": [
    "df = pd.DataFrame(data)\n",
    "df.head()"
   ]
  },
  {
   "cell_type": "code",
   "execution_count": 4,
   "metadata": {},
   "outputs": [
    {
     "name": "stdout",
     "output_type": "stream",
     "text": [
      "<class 'pandas.core.frame.DataFrame'>\n",
      "RangeIndex: 40 entries, 0 to 39\n",
      "Data columns (total 2 columns):\n",
      " #   Column    Non-Null Count  Dtype \n",
      "---  ------    --------------  ----- \n",
      " 0   sentence  40 non-null     object\n",
      " 1   entities  40 non-null     object\n",
      "dtypes: object(2)\n",
      "memory usage: 772.0+ bytes\n"
     ]
    }
   ],
   "source": [
    "df.info()"
   ]
  },
  {
   "cell_type": "markdown",
   "metadata": {},
   "source": [
    "##### Cleaning functions"
   ]
  },
  {
   "cell_type": "code",
   "execution_count": 8,
   "metadata": {},
   "outputs": [],
   "source": [
    "def preprocess_text(text):\n",
    "    text = re.sub(\"[إأآا]\", \"ا\", text)  \n",
    "    text = re.sub(\"ى\", \"ي\", text)       \n",
    "    text = re.sub(\"ؤ\", \"ء\", text)       \n",
    "    text = re.sub(\"ئ\", \"ء\", text)\n",
    "    \n",
    "    text = re.sub(r'[\\u064B-\\u065F]', '', text)\n",
    "    \n",
    "    text = re.sub(r'[^\\w\\s]', '', text)\n",
    "    \n",
    "    return text\n",
    "\n"
   ]
  },
  {
   "cell_type": "code",
   "execution_count": 9,
   "metadata": {},
   "outputs": [],
   "source": [
    "def tokenize_text(text):\n",
    "    tokens = word_tokenize(text)  \n",
    "    return tokens\n",
    "\n"
   ]
  },
  {
   "cell_type": "code",
   "execution_count": 10,
   "metadata": {},
   "outputs": [
    {
     "data": {
      "text/html": [
       "<div>\n",
       "<style scoped>\n",
       "    .dataframe tbody tr th:only-of-type {\n",
       "        vertical-align: middle;\n",
       "    }\n",
       "\n",
       "    .dataframe tbody tr th {\n",
       "        vertical-align: top;\n",
       "    }\n",
       "\n",
       "    .dataframe thead th {\n",
       "        text-align: right;\n",
       "    }\n",
       "</style>\n",
       "<table border=\"1\" class=\"dataframe\">\n",
       "  <thead>\n",
       "    <tr style=\"text-align: right;\">\n",
       "      <th></th>\n",
       "      <th>sentence</th>\n",
       "      <th>entities</th>\n",
       "      <th>cleaned_sentence</th>\n",
       "      <th>tokens</th>\n",
       "    </tr>\n",
       "  </thead>\n",
       "  <tbody>\n",
       "    <tr>\n",
       "      <th>0</th>\n",
       "      <td>زار محمد دبي في ٢٠٢٣.</td>\n",
       "      <td>{'Person': 'محمد', 'Location': 'دبي', 'Date': ...</td>\n",
       "      <td>زار محمد دبي في ٢٠٢٣</td>\n",
       "      <td>[زار, محمد, دبي, في, ٢٠٢٣]</td>\n",
       "    </tr>\n",
       "    <tr>\n",
       "      <th>1</th>\n",
       "      <td>حضرت مريم مؤتمر جوجل في باريس.</td>\n",
       "      <td>{'Person': 'مريم', 'Organization': 'جوجل', 'Lo...</td>\n",
       "      <td>حضرت مريم مءتمر جوجل في باريس</td>\n",
       "      <td>[حضرت, مريم, مءتمر, جوجل, في, باريس]</td>\n",
       "    </tr>\n",
       "    <tr>\n",
       "      <th>2</th>\n",
       "      <td>أسس أحمد شركة الفجر في عام ٢٠١٩.</td>\n",
       "      <td>{'Person': 'أحمد', 'Organization': 'شركة الفجر...</td>\n",
       "      <td>اسس احمد شركة الفجر في عام ٢٠١٩</td>\n",
       "      <td>[اسس, احمد, شركة, الفجر, في, عام, ٢٠١٩]</td>\n",
       "    </tr>\n",
       "    <tr>\n",
       "      <th>3</th>\n",
       "      <td>تعمل سارة في مستشفى الجامعة في بيروت.</td>\n",
       "      <td>{'Person': 'سارة', 'Organization': 'مستشفى الج...</td>\n",
       "      <td>تعمل سارة في مستشفي الجامعة في بيروت</td>\n",
       "      <td>[تعمل, سارة, في, مستشفي, الجامعة, في, بيروت]</td>\n",
       "    </tr>\n",
       "    <tr>\n",
       "      <th>4</th>\n",
       "      <td>أقيمت الدورة الأولمبية في طوكيو ٢٠٢١.</td>\n",
       "      <td>{'Event': 'الدورة الأولمبية', 'Location': 'طوك...</td>\n",
       "      <td>اقيمت الدورة الاولمبية في طوكيو ٢٠٢١</td>\n",
       "      <td>[اقيمت, الدورة, الاولمبية, في, طوكيو, ٢٠٢١]</td>\n",
       "    </tr>\n",
       "  </tbody>\n",
       "</table>\n",
       "</div>"
      ],
      "text/plain": [
       "                                sentence  \\\n",
       "0                  زار محمد دبي في ٢٠٢٣.   \n",
       "1         حضرت مريم مؤتمر جوجل في باريس.   \n",
       "2       أسس أحمد شركة الفجر في عام ٢٠١٩.   \n",
       "3  تعمل سارة في مستشفى الجامعة في بيروت.   \n",
       "4  أقيمت الدورة الأولمبية في طوكيو ٢٠٢١.   \n",
       "\n",
       "                                            entities  \\\n",
       "0  {'Person': 'محمد', 'Location': 'دبي', 'Date': ...   \n",
       "1  {'Person': 'مريم', 'Organization': 'جوجل', 'Lo...   \n",
       "2  {'Person': 'أحمد', 'Organization': 'شركة الفجر...   \n",
       "3  {'Person': 'سارة', 'Organization': 'مستشفى الج...   \n",
       "4  {'Event': 'الدورة الأولمبية', 'Location': 'طوك...   \n",
       "\n",
       "                       cleaned_sentence  \\\n",
       "0                  زار محمد دبي في ٢٠٢٣   \n",
       "1         حضرت مريم مءتمر جوجل في باريس   \n",
       "2       اسس احمد شركة الفجر في عام ٢٠١٩   \n",
       "3  تعمل سارة في مستشفي الجامعة في بيروت   \n",
       "4  اقيمت الدورة الاولمبية في طوكيو ٢٠٢١   \n",
       "\n",
       "                                         tokens  \n",
       "0                    [زار, محمد, دبي, في, ٢٠٢٣]  \n",
       "1          [حضرت, مريم, مءتمر, جوجل, في, باريس]  \n",
       "2       [اسس, احمد, شركة, الفجر, في, عام, ٢٠١٩]  \n",
       "3  [تعمل, سارة, في, مستشفي, الجامعة, في, بيروت]  \n",
       "4   [اقيمت, الدورة, الاولمبية, في, طوكيو, ٢٠٢١]  "
      ]
     },
     "execution_count": 10,
     "metadata": {},
     "output_type": "execute_result"
    }
   ],
   "source": [
    "df['cleaned_sentence'] = df['sentence'].apply(preprocess_text)\n",
    "df['tokens'] = df['cleaned_sentence'].apply(tokenize_text)\n",
    "\n",
    "df.head()\n"
   ]
  },
  {
   "cell_type": "code",
   "execution_count": 11,
   "metadata": {},
   "outputs": [
    {
     "data": {
      "text/html": [
       "<div>\n",
       "<style scoped>\n",
       "    .dataframe tbody tr th:only-of-type {\n",
       "        vertical-align: middle;\n",
       "    }\n",
       "\n",
       "    .dataframe tbody tr th {\n",
       "        vertical-align: top;\n",
       "    }\n",
       "\n",
       "    .dataframe thead th {\n",
       "        text-align: right;\n",
       "    }\n",
       "</style>\n",
       "<table border=\"1\" class=\"dataframe\">\n",
       "  <thead>\n",
       "    <tr style=\"text-align: right;\">\n",
       "      <th></th>\n",
       "      <th>sentence</th>\n",
       "      <th>entities</th>\n",
       "      <th>predicted_entities</th>\n",
       "    </tr>\n",
       "  </thead>\n",
       "  <tbody>\n",
       "    <tr>\n",
       "      <th>0</th>\n",
       "      <td>زار محمد دبي في ٢٠٢٣.</td>\n",
       "      <td>{'Person': 'محمد', 'Location': 'دبي', 'Date': ...</td>\n",
       "      <td>{'Person': 'محمد', 'Location': 'دبي', 'Date': ...</td>\n",
       "    </tr>\n",
       "    <tr>\n",
       "      <th>1</th>\n",
       "      <td>حضرت مريم مؤتمر جوجل في باريس.</td>\n",
       "      <td>{'Person': 'مريم', 'Organization': 'جوجل', 'Lo...</td>\n",
       "      <td>{'Person': 'مريم', 'Location': 'باريس', 'Organ...</td>\n",
       "    </tr>\n",
       "    <tr>\n",
       "      <th>2</th>\n",
       "      <td>أسس أحمد شركة الفجر في عام ٢٠١٩.</td>\n",
       "      <td>{'Person': 'أحمد', 'Organization': 'شركة الفجر...</td>\n",
       "      <td>{'Date': '٢٠١٩'}</td>\n",
       "    </tr>\n",
       "    <tr>\n",
       "      <th>3</th>\n",
       "      <td>تعمل سارة في مستشفى الجامعة في بيروت.</td>\n",
       "      <td>{'Person': 'سارة', 'Organization': 'مستشفى الج...</td>\n",
       "      <td>{}</td>\n",
       "    </tr>\n",
       "    <tr>\n",
       "      <th>4</th>\n",
       "      <td>أقيمت الدورة الأولمبية في طوكيو ٢٠٢١.</td>\n",
       "      <td>{'Event': 'الدورة الأولمبية', 'Location': 'طوك...</td>\n",
       "      <td>{'Date': '٢٠٢١'}</td>\n",
       "    </tr>\n",
       "  </tbody>\n",
       "</table>\n",
       "</div>"
      ],
      "text/plain": [
       "                                sentence  \\\n",
       "0                  زار محمد دبي في ٢٠٢٣.   \n",
       "1         حضرت مريم مؤتمر جوجل في باريس.   \n",
       "2       أسس أحمد شركة الفجر في عام ٢٠١٩.   \n",
       "3  تعمل سارة في مستشفى الجامعة في بيروت.   \n",
       "4  أقيمت الدورة الأولمبية في طوكيو ٢٠٢١.   \n",
       "\n",
       "                                            entities  \\\n",
       "0  {'Person': 'محمد', 'Location': 'دبي', 'Date': ...   \n",
       "1  {'Person': 'مريم', 'Organization': 'جوجل', 'Lo...   \n",
       "2  {'Person': 'أحمد', 'Organization': 'شركة الفجر...   \n",
       "3  {'Person': 'سارة', 'Organization': 'مستشفى الج...   \n",
       "4  {'Event': 'الدورة الأولمبية', 'Location': 'طوك...   \n",
       "\n",
       "                                  predicted_entities  \n",
       "0  {'Person': 'محمد', 'Location': 'دبي', 'Date': ...  \n",
       "1  {'Person': 'مريم', 'Location': 'باريس', 'Organ...  \n",
       "2                                   {'Date': '٢٠١٩'}  \n",
       "3                                                 {}  \n",
       "4                                   {'Date': '٢٠٢١'}  "
      ]
     },
     "execution_count": 11,
     "metadata": {},
     "output_type": "execute_result"
    }
   ],
   "source": [
    "patterns = {\n",
    "    'Person': r\"\\b(محمد|مريم|ياسمين)\\b\",  \n",
    "    'Location': r\"\\b(دبي|باريس|اليابان|القاهرة)\\b\", \n",
    "    'Date': r\"\\b(\\d{4}|العطلة الصيفية)\\b\",  \n",
    "    'Organization': r\"\\b(جوجل|مايكروسوفت)\\b\"  \n",
    "}\n",
    "\n",
    "def rule_based_ner(sentence, patterns):\n",
    "    entities = {}\n",
    "    for entity_type, pattern in patterns.items():\n",
    "        match = re.search(pattern, sentence)\n",
    "        if match:\n",
    "            entities[entity_type] = match.group(0)\n",
    "    return entities\n",
    "\n",
    "df['predicted_entities'] = df['sentence'].apply(lambda x: rule_based_ner(x, patterns))\n",
    "\n",
    "df[['sentence', 'entities', 'predicted_entities']].head()\n"
   ]
  },
  {
   "cell_type": "code",
   "execution_count": 14,
   "metadata": {},
   "outputs": [
    {
     "name": "stdout",
     "output_type": "stream",
     "text": [
      "زار: None\n",
      "محمد: Person\n",
      "دبي: Location\n",
      "في: None\n",
      "٢٠٢٣: Date\n"
     ]
    }
   ],
   "source": [
    "def prepare_ml_data(df):\n",
    "    data = []\n",
    "    for i, row in df.iterrows():\n",
    "        tokens = row['tokens']\n",
    "        entities = row['entities']\n",
    "        token_labels = []\n",
    "        \n",
    "        for token in tokens:\n",
    "            label = 'None'  \n",
    "            for entity, value in entities.items():\n",
    "                if token == value:\n",
    "                    label = entity\n",
    "            token_labels.append((token, label))\n",
    "        \n",
    "        data.append(token_labels)\n",
    "    \n",
    "    return data\n",
    "\n",
    "ml_data = prepare_ml_data(df)\n",
    "\n",
    "\n"
   ]
  },
  {
   "cell_type": "code",
   "execution_count": 15,
   "metadata": {},
   "outputs": [
    {
     "name": "stdout",
     "output_type": "stream",
     "text": [
      "              precision    recall  f1-score   support\n",
      "\n",
      "        Date       1.00      0.40      0.57        15\n",
      "       Event       0.00      0.00      0.00         6\n",
      "    Location       1.00      0.71      0.83        21\n",
      "        None       0.82      1.00      0.90       205\n",
      "Organization       0.00      0.00      0.00         5\n",
      "      Person       0.00      0.00      0.00        20\n",
      "\n",
      "    accuracy                           0.83       272\n",
      "   macro avg       0.47      0.35      0.38       272\n",
      "weighted avg       0.75      0.83      0.77       272\n",
      "\n"
     ]
    },
    {
     "name": "stderr",
     "output_type": "stream",
     "text": [
      "C:\\Users\\moham\\AppData\\Roaming\\Python\\Python311\\site-packages\\sklearn\\metrics\\_classification.py:1344: UndefinedMetricWarning: Precision and F-score are ill-defined and being set to 0.0 in labels with no predicted samples. Use `zero_division` parameter to control this behavior.\n",
      "  _warn_prf(average, modifier, msg_start, len(result))\n",
      "C:\\Users\\moham\\AppData\\Roaming\\Python\\Python311\\site-packages\\sklearn\\metrics\\_classification.py:1344: UndefinedMetricWarning: Precision and F-score are ill-defined and being set to 0.0 in labels with no predicted samples. Use `zero_division` parameter to control this behavior.\n",
      "  _warn_prf(average, modifier, msg_start, len(result))\n",
      "C:\\Users\\moham\\AppData\\Roaming\\Python\\Python311\\site-packages\\sklearn\\metrics\\_classification.py:1344: UndefinedMetricWarning: Precision and F-score are ill-defined and being set to 0.0 in labels with no predicted samples. Use `zero_division` parameter to control this behavior.\n",
      "  _warn_prf(average, modifier, msg_start, len(result))\n"
     ]
    }
   ],
   "source": [
    "def extract_features(tokens):\n",
    "    return [{'word': token} for token in tokens]\n",
    "\n",
    "def get_labels(token_labels):\n",
    "    return [label for token, label in token_labels]\n",
    "\n",
    "X_train = [extract_features([token for token, label in sentence]) for sentence in ml_data]\n",
    "y_train = [get_labels(sentence) for sentence in ml_data]\n",
    "\n",
    "crf = sklearn_crfsuite.CRF()\n",
    "crf.fit(X_train, y_train)\n",
    "\n",
    "y_pred = crf.predict(X_train)\n",
    "\n",
    "print(metrics.flat_classification_report(y_train, y_pred))\n"
   ]
  },
  {
   "cell_type": "markdown",
   "metadata": {},
   "source": [
    "##### One thing to note, is that rule based used here is very limited to the data set at hand, which is a small one also, and yet, there is a lot of challenges. Rule based in arabic is tough, capturing dates maybe the easiest part, other than that, it is very challenging. In english, it is easier to get Nouns, especially names and so on and countries, using capitalization as a reference for example, in addition to some available libraries in text processing, which for example offers months names, country names, and so on and so forth.\n",
    "##### Machine learning approach seems earier and more direct, training an ml model to do the job, especially after thorough data cleaning and tokenization"
   ]
  }
 ],
 "metadata": {
  "kernelspec": {
   "display_name": "base",
   "language": "python",
   "name": "python3"
  },
  "language_info": {
   "codemirror_mode": {
    "name": "ipython",
    "version": 3
   },
   "file_extension": ".py",
   "mimetype": "text/x-python",
   "name": "python",
   "nbconvert_exporter": "python",
   "pygments_lexer": "ipython3",
   "version": "3.11.5"
  }
 },
 "nbformat": 4,
 "nbformat_minor": 2
}
